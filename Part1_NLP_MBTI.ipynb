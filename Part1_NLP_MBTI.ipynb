{
 "cells": [
  {
   "cell_type": "markdown",
   "id": "66289db8",
   "metadata": {},
   "source": [
    "# Project 1 - NLP - MBTI Dataset"
   ]
  },
  {
   "cell_type": "markdown",
   "id": "d6927a26",
   "metadata": {},
   "source": [
    "Here, we'll find a model to predict MBTI type of a person based on their typing.\n",
    "\n",
    "Dataset from Kaggle: https://www.kaggle.com/datasets/datasnaek/mbti-type"
   ]
  },
  {
   "cell_type": "markdown",
   "id": "d21c8464",
   "metadata": {},
   "source": [
    "## Look at the data"
   ]
  },
  {
   "cell_type": "code",
   "execution_count": 122,
   "id": "24ea46db",
   "metadata": {},
   "outputs": [],
   "source": [
    "import numpy as np\n",
    "import pandas as pd\n",
    "import matplotlib.pyplot as plt\n",
    "import seaborn as sns"
   ]
  },
  {
   "cell_type": "code",
   "execution_count": 123,
   "id": "4b52510a",
   "metadata": {},
   "outputs": [
    {
     "data": {
      "text/html": [
       "<div>\n",
       "<style scoped>\n",
       "    .dataframe tbody tr th:only-of-type {\n",
       "        vertical-align: middle;\n",
       "    }\n",
       "\n",
       "    .dataframe tbody tr th {\n",
       "        vertical-align: top;\n",
       "    }\n",
       "\n",
       "    .dataframe thead th {\n",
       "        text-align: right;\n",
       "    }\n",
       "</style>\n",
       "<table border=\"1\" class=\"dataframe\">\n",
       "  <thead>\n",
       "    <tr style=\"text-align: right;\">\n",
       "      <th></th>\n",
       "      <th>type</th>\n",
       "      <th>posts</th>\n",
       "    </tr>\n",
       "  </thead>\n",
       "  <tbody>\n",
       "    <tr>\n",
       "      <th>0</th>\n",
       "      <td>INFJ</td>\n",
       "      <td>'http://www.youtube.com/watch?v=qsXHcwe3krw|||...</td>\n",
       "    </tr>\n",
       "    <tr>\n",
       "      <th>1</th>\n",
       "      <td>ENTP</td>\n",
       "      <td>'I'm finding the lack of me in these posts ver...</td>\n",
       "    </tr>\n",
       "    <tr>\n",
       "      <th>2</th>\n",
       "      <td>INTP</td>\n",
       "      <td>'Good one  _____   https://www.youtube.com/wat...</td>\n",
       "    </tr>\n",
       "    <tr>\n",
       "      <th>3</th>\n",
       "      <td>INTJ</td>\n",
       "      <td>'Dear INTP,   I enjoyed our conversation the o...</td>\n",
       "    </tr>\n",
       "    <tr>\n",
       "      <th>4</th>\n",
       "      <td>ENTJ</td>\n",
       "      <td>'You're fired.|||That's another silly misconce...</td>\n",
       "    </tr>\n",
       "  </tbody>\n",
       "</table>\n",
       "</div>"
      ],
      "text/plain": [
       "   type                                              posts\n",
       "0  INFJ  'http://www.youtube.com/watch?v=qsXHcwe3krw|||...\n",
       "1  ENTP  'I'm finding the lack of me in these posts ver...\n",
       "2  INTP  'Good one  _____   https://www.youtube.com/wat...\n",
       "3  INTJ  'Dear INTP,   I enjoyed our conversation the o...\n",
       "4  ENTJ  'You're fired.|||That's another silly misconce..."
      ]
     },
     "execution_count": 123,
     "metadata": {},
     "output_type": "execute_result"
    }
   ],
   "source": [
    "df = pd.read_csv(\"mbti_1.csv\")\n",
    "df.head()"
   ]
  },
  {
   "cell_type": "code",
   "execution_count": 124,
   "id": "511dab9b",
   "metadata": {},
   "outputs": [
    {
     "name": "stdout",
     "output_type": "stream",
     "text": [
      "<class 'pandas.core.frame.DataFrame'>\n",
      "RangeIndex: 8675 entries, 0 to 8674\n",
      "Data columns (total 2 columns):\n",
      " #   Column  Non-Null Count  Dtype \n",
      "---  ------  --------------  ----- \n",
      " 0   type    8675 non-null   object\n",
      " 1   posts   8675 non-null   object\n",
      "dtypes: object(2)\n",
      "memory usage: 135.7+ KB\n"
     ]
    }
   ],
   "source": [
    "df.info()"
   ]
  },
  {
   "cell_type": "markdown",
   "id": "6cfba6fd",
   "metadata": {},
   "source": [
    "No missing values in our dataset"
   ]
  },
  {
   "cell_type": "code",
   "execution_count": 125,
   "id": "526c6e94",
   "metadata": {},
   "outputs": [
    {
     "data": {
      "text/plain": [
       "(8675, 2)"
      ]
     },
     "execution_count": 125,
     "metadata": {},
     "output_type": "execute_result"
    }
   ],
   "source": [
    "df.shape"
   ]
  },
  {
   "cell_type": "markdown",
   "id": "505f4600",
   "metadata": {},
   "source": [
    "## Pre-Processing Steps:"
   ]
  },
  {
   "cell_type": "markdown",
   "id": "ef261d12",
   "metadata": {},
   "source": [
    "- Expand contractions\n",
    "- Noise cleaning\n",
    "- Remove stopwords"
   ]
  },
  {
   "cell_type": "markdown",
   "id": "bea1147c",
   "metadata": {},
   "source": [
    "##### Expand Contractions"
   ]
  },
  {
   "cell_type": "code",
   "execution_count": 126,
   "id": "93080f7b",
   "metadata": {
    "scrolled": true
   },
   "outputs": [
    {
     "data": {
      "text/html": [
       "<div>\n",
       "<style scoped>\n",
       "    .dataframe tbody tr th:only-of-type {\n",
       "        vertical-align: middle;\n",
       "    }\n",
       "\n",
       "    .dataframe tbody tr th {\n",
       "        vertical-align: top;\n",
       "    }\n",
       "\n",
       "    .dataframe thead th {\n",
       "        text-align: right;\n",
       "    }\n",
       "</style>\n",
       "<table border=\"1\" class=\"dataframe\">\n",
       "  <thead>\n",
       "    <tr style=\"text-align: right;\">\n",
       "      <th></th>\n",
       "      <th>type</th>\n",
       "      <th>posts</th>\n",
       "    </tr>\n",
       "  </thead>\n",
       "  <tbody>\n",
       "    <tr>\n",
       "      <th>0</th>\n",
       "      <td>INFJ</td>\n",
       "      <td>['http://www.youtube.com/watch?v=qsXHcwe3krw||...</td>\n",
       "    </tr>\n",
       "    <tr>\n",
       "      <th>1</th>\n",
       "      <td>ENTP</td>\n",
       "      <td>['I am, finding, the, lack, of, me, in, these,...</td>\n",
       "    </tr>\n",
       "    <tr>\n",
       "      <th>2</th>\n",
       "      <td>INTP</td>\n",
       "      <td>['Good, one, , _____, , , https://www.youtube....</td>\n",
       "    </tr>\n",
       "    <tr>\n",
       "      <th>3</th>\n",
       "      <td>INTJ</td>\n",
       "      <td>['Dear, INTP,, , , I, enjoyed, our, conversati...</td>\n",
       "    </tr>\n",
       "    <tr>\n",
       "      <th>4</th>\n",
       "      <td>ENTJ</td>\n",
       "      <td>['You are, fired.|||That is, another, silly, m...</td>\n",
       "    </tr>\n",
       "  </tbody>\n",
       "</table>\n",
       "</div>"
      ],
      "text/plain": [
       "   type                                              posts\n",
       "0  INFJ  ['http://www.youtube.com/watch?v=qsXHcwe3krw||...\n",
       "1  ENTP  ['I am, finding, the, lack, of, me, in, these,...\n",
       "2  INTP  ['Good, one, , _____, , , https://www.youtube....\n",
       "3  INTJ  ['Dear, INTP,, , , I, enjoyed, our, conversati...\n",
       "4  ENTJ  ['You are, fired.|||That is, another, silly, m..."
      ]
     },
     "execution_count": 126,
     "metadata": {},
     "output_type": "execute_result"
    }
   ],
   "source": [
    "# Contraction Mapping\n",
    "import contractions\n",
    "\n",
    "df['posts'] = df['posts'].apply(lambda x: [contractions.fix(word) for word in x.split(' ')])\n",
    "df.head()"
   ]
  },
  {
   "cell_type": "code",
   "execution_count": 127,
   "id": "8a00d510",
   "metadata": {},
   "outputs": [
    {
     "data": {
      "text/html": [
       "<div>\n",
       "<style scoped>\n",
       "    .dataframe tbody tr th:only-of-type {\n",
       "        vertical-align: middle;\n",
       "    }\n",
       "\n",
       "    .dataframe tbody tr th {\n",
       "        vertical-align: top;\n",
       "    }\n",
       "\n",
       "    .dataframe thead th {\n",
       "        text-align: right;\n",
       "    }\n",
       "</style>\n",
       "<table border=\"1\" class=\"dataframe\">\n",
       "  <thead>\n",
       "    <tr style=\"text-align: right;\">\n",
       "      <th></th>\n",
       "      <th>type</th>\n",
       "      <th>posts</th>\n",
       "    </tr>\n",
       "  </thead>\n",
       "  <tbody>\n",
       "    <tr>\n",
       "      <th>0</th>\n",
       "      <td>INFJ</td>\n",
       "      <td>'http://www.youtube.com/watch?v=qsXHcwe3krw|||...</td>\n",
       "    </tr>\n",
       "    <tr>\n",
       "      <th>1</th>\n",
       "      <td>ENTP</td>\n",
       "      <td>'I am finding the lack of me in these posts ve...</td>\n",
       "    </tr>\n",
       "    <tr>\n",
       "      <th>2</th>\n",
       "      <td>INTP</td>\n",
       "      <td>'Good one  _____   https://www.youtube.com/wat...</td>\n",
       "    </tr>\n",
       "    <tr>\n",
       "      <th>3</th>\n",
       "      <td>INTJ</td>\n",
       "      <td>'Dear INTP,   I enjoyed our conversation the o...</td>\n",
       "    </tr>\n",
       "    <tr>\n",
       "      <th>4</th>\n",
       "      <td>ENTJ</td>\n",
       "      <td>'You are fired.|||That is another silly miscon...</td>\n",
       "    </tr>\n",
       "  </tbody>\n",
       "</table>\n",
       "</div>"
      ],
      "text/plain": [
       "   type                                              posts\n",
       "0  INFJ  'http://www.youtube.com/watch?v=qsXHcwe3krw|||...\n",
       "1  ENTP  'I am finding the lack of me in these posts ve...\n",
       "2  INTP  'Good one  _____   https://www.youtube.com/wat...\n",
       "3  INTJ  'Dear INTP,   I enjoyed our conversation the o...\n",
       "4  ENTJ  'You are fired.|||That is another silly miscon..."
      ]
     },
     "execution_count": 127,
     "metadata": {},
     "output_type": "execute_result"
    }
   ],
   "source": [
    "#joining back the list of items into one string\n",
    "df['posts'] = [' '.join(map(str, l)) for l in df['posts'] ]\n",
    "\n",
    "df.head()"
   ]
  },
  {
   "cell_type": "markdown",
   "id": "61593695",
   "metadata": {},
   "source": [
    "##### Noise Cleaning"
   ]
  },
  {
   "cell_type": "code",
   "execution_count": 128,
   "id": "b346f63c",
   "metadata": {},
   "outputs": [
    {
     "data": {
      "text/html": [
       "<div>\n",
       "<style scoped>\n",
       "    .dataframe tbody tr th:only-of-type {\n",
       "        vertical-align: middle;\n",
       "    }\n",
       "\n",
       "    .dataframe tbody tr th {\n",
       "        vertical-align: top;\n",
       "    }\n",
       "\n",
       "    .dataframe thead th {\n",
       "        text-align: right;\n",
       "    }\n",
       "</style>\n",
       "<table border=\"1\" class=\"dataframe\">\n",
       "  <thead>\n",
       "    <tr style=\"text-align: right;\">\n",
       "      <th></th>\n",
       "      <th>type</th>\n",
       "      <th>posts</th>\n",
       "    </tr>\n",
       "  </thead>\n",
       "  <tbody>\n",
       "    <tr>\n",
       "      <th>0</th>\n",
       "      <td>INFJ</td>\n",
       "      <td>httpwwwyoutubecomwatchvqsxhcwe3krwhttp41mediat...</td>\n",
       "    </tr>\n",
       "    <tr>\n",
       "      <th>1</th>\n",
       "      <td>ENTP</td>\n",
       "      <td>i am finding the lack of me in these posts ver...</td>\n",
       "    </tr>\n",
       "    <tr>\n",
       "      <th>2</th>\n",
       "      <td>INTP</td>\n",
       "      <td>good one  _____   httpswwwyoutubecomwatchvfhig...</td>\n",
       "    </tr>\n",
       "    <tr>\n",
       "      <th>3</th>\n",
       "      <td>INTJ</td>\n",
       "      <td>dear intp   i enjoyed our conversation the oth...</td>\n",
       "    </tr>\n",
       "    <tr>\n",
       "      <th>4</th>\n",
       "      <td>ENTJ</td>\n",
       "      <td>you are firedthat is another silly misconcepti...</td>\n",
       "    </tr>\n",
       "  </tbody>\n",
       "</table>\n",
       "</div>"
      ],
      "text/plain": [
       "   type                                              posts\n",
       "0  INFJ  httpwwwyoutubecomwatchvqsxhcwe3krwhttp41mediat...\n",
       "1  ENTP  i am finding the lack of me in these posts ver...\n",
       "2  INTP  good one  _____   httpswwwyoutubecomwatchvfhig...\n",
       "3  INTJ  dear intp   i enjoyed our conversation the oth...\n",
       "4  ENTJ  you are firedthat is another silly misconcepti..."
      ]
     },
     "execution_count": 128,
     "metadata": {},
     "output_type": "execute_result"
    }
   ],
   "source": [
    "# Noise Cleaning - spacing, special characters, lowercasing \n",
    "import regex as re\n",
    "\n",
    "df['posts'] = df['posts'].str.lower()\n",
    "df['posts'] = df['posts'].apply(lambda x: re.sub(r'[^\\w\\d\\s]+', '', x))\n",
    "\n",
    "df.head()"
   ]
  },
  {
   "cell_type": "code",
   "execution_count": 129,
   "id": "80b6c6b7",
   "metadata": {},
   "outputs": [
    {
     "data": {
      "text/html": [
       "<div>\n",
       "<style scoped>\n",
       "    .dataframe tbody tr th:only-of-type {\n",
       "        vertical-align: middle;\n",
       "    }\n",
       "\n",
       "    .dataframe tbody tr th {\n",
       "        vertical-align: top;\n",
       "    }\n",
       "\n",
       "    .dataframe thead th {\n",
       "        text-align: right;\n",
       "    }\n",
       "</style>\n",
       "<table border=\"1\" class=\"dataframe\">\n",
       "  <thead>\n",
       "    <tr style=\"text-align: right;\">\n",
       "      <th></th>\n",
       "      <th>type</th>\n",
       "      <th>posts</th>\n",
       "    </tr>\n",
       "  </thead>\n",
       "  <tbody>\n",
       "    <tr>\n",
       "      <th>0</th>\n",
       "      <td>INFJ</td>\n",
       "      <td>and intj moments    sportscenter not top ten ...</td>\n",
       "    </tr>\n",
       "    <tr>\n",
       "      <th>1</th>\n",
       "      <td>ENTP</td>\n",
       "      <td>i am finding the lack of me in these posts ver...</td>\n",
       "    </tr>\n",
       "    <tr>\n",
       "      <th>2</th>\n",
       "      <td>INTP</td>\n",
       "      <td>good one  _____    course to which i say i kno...</td>\n",
       "    </tr>\n",
       "    <tr>\n",
       "      <th>3</th>\n",
       "      <td>INTJ</td>\n",
       "      <td>dear intp   i enjoyed our conversation the oth...</td>\n",
       "    </tr>\n",
       "    <tr>\n",
       "      <th>4</th>\n",
       "      <td>ENTJ</td>\n",
       "      <td>you are firedthat is another silly misconcepti...</td>\n",
       "    </tr>\n",
       "  </tbody>\n",
       "</table>\n",
       "</div>"
      ],
      "text/plain": [
       "   type                                              posts\n",
       "0  INFJ   and intj moments    sportscenter not top ten ...\n",
       "1  ENTP  i am finding the lack of me in these posts ver...\n",
       "2  INTP  good one  _____    course to which i say i kno...\n",
       "3  INTJ  dear intp   i enjoyed our conversation the oth...\n",
       "4  ENTJ  you are firedthat is another silly misconcepti..."
      ]
     },
     "execution_count": 129,
     "metadata": {},
     "output_type": "execute_result"
    }
   ],
   "source": [
    "#turn out that we need to get rid of unnecessary link included in posts \n",
    "\n",
    "df['posts'] = df['posts'].apply(lambda x: re.sub(\"http[s]?[\\w]+\", '', x))\n",
    "\n",
    "df.head()"
   ]
  },
  {
   "cell_type": "code",
   "execution_count": 130,
   "id": "ac4f7df2",
   "metadata": {},
   "outputs": [
    {
     "data": {
      "text/html": [
       "<div>\n",
       "<style scoped>\n",
       "    .dataframe tbody tr th:only-of-type {\n",
       "        vertical-align: middle;\n",
       "    }\n",
       "\n",
       "    .dataframe tbody tr th {\n",
       "        vertical-align: top;\n",
       "    }\n",
       "\n",
       "    .dataframe thead th {\n",
       "        text-align: right;\n",
       "    }\n",
       "</style>\n",
       "<table border=\"1\" class=\"dataframe\">\n",
       "  <thead>\n",
       "    <tr style=\"text-align: right;\">\n",
       "      <th></th>\n",
       "      <th>type</th>\n",
       "      <th>posts</th>\n",
       "    </tr>\n",
       "  </thead>\n",
       "  <tbody>\n",
       "    <tr>\n",
       "      <th>0</th>\n",
       "      <td>INFJ</td>\n",
       "      <td>and intj moments    sportscenter not top ten ...</td>\n",
       "    </tr>\n",
       "    <tr>\n",
       "      <th>1</th>\n",
       "      <td>ENTP</td>\n",
       "      <td>i am finding the lack of me in these posts ver...</td>\n",
       "    </tr>\n",
       "    <tr>\n",
       "      <th>2</th>\n",
       "      <td>INTP</td>\n",
       "      <td>good one      course to which i say i know tha...</td>\n",
       "    </tr>\n",
       "    <tr>\n",
       "      <th>3</th>\n",
       "      <td>INTJ</td>\n",
       "      <td>dear intp   i enjoyed our conversation the oth...</td>\n",
       "    </tr>\n",
       "    <tr>\n",
       "      <th>4</th>\n",
       "      <td>ENTJ</td>\n",
       "      <td>you are firedthat is another silly misconcepti...</td>\n",
       "    </tr>\n",
       "  </tbody>\n",
       "</table>\n",
       "</div>"
      ],
      "text/plain": [
       "   type                                              posts\n",
       "0  INFJ   and intj moments    sportscenter not top ten ...\n",
       "1  ENTP  i am finding the lack of me in these posts ver...\n",
       "2  INTP  good one      course to which i say i know tha...\n",
       "3  INTJ  dear intp   i enjoyed our conversation the oth...\n",
       "4  ENTJ  you are firedthat is another silly misconcepti..."
      ]
     },
     "execution_count": 130,
     "metadata": {},
     "output_type": "execute_result"
    }
   ],
   "source": [
    "#turn out that we need to get rid of unnecessary underscore\n",
    "\n",
    "df['posts'] = df['posts'].apply(lambda x: re.sub(\"[\\_]+\", '', x))\n",
    "\n",
    "df.head()"
   ]
  },
  {
   "cell_type": "code",
   "execution_count": 131,
   "id": "381e67f2",
   "metadata": {},
   "outputs": [
    {
     "name": "stderr",
     "output_type": "stream",
     "text": [
      "[nltk_data] Downloading package punkt to C:\\Users\\HP\n",
      "[nltk_data]     14S\\AppData\\Roaming\\nltk_data...\n",
      "[nltk_data]   Package punkt is already up-to-date!\n",
      "[nltk_data] Downloading package averaged_perceptron_tagger to\n",
      "[nltk_data]     C:\\Users\\HP 14S\\AppData\\Roaming\\nltk_data...\n",
      "[nltk_data]   Package averaged_perceptron_tagger is already up-to-\n",
      "[nltk_data]       date!\n",
      "[nltk_data] Downloading package stopwords to C:\\Users\\HP\n",
      "[nltk_data]     14S\\AppData\\Roaming\\nltk_data...\n",
      "[nltk_data]   Package stopwords is already up-to-date!\n"
     ]
    }
   ],
   "source": [
    "import nltk\n",
    "nltk.download('punkt')\n",
    "nltk.download('averaged_perceptron_tagger')\n",
    "nltk.download('stopwords')\n",
    "stopwords = nltk.corpus.stopwords.words('english')\n",
    "from nltk.corpus import stopwords\n",
    "from nltk.tokenize import word_tokenize\n"
   ]
  },
  {
   "cell_type": "code",
   "execution_count": 132,
   "id": "5932f266",
   "metadata": {},
   "outputs": [
    {
     "data": {
      "text/html": [
       "<div>\n",
       "<style scoped>\n",
       "    .dataframe tbody tr th:only-of-type {\n",
       "        vertical-align: middle;\n",
       "    }\n",
       "\n",
       "    .dataframe tbody tr th {\n",
       "        vertical-align: top;\n",
       "    }\n",
       "\n",
       "    .dataframe thead th {\n",
       "        text-align: right;\n",
       "    }\n",
       "</style>\n",
       "<table border=\"1\" class=\"dataframe\">\n",
       "  <thead>\n",
       "    <tr style=\"text-align: right;\">\n",
       "      <th></th>\n",
       "      <th>type</th>\n",
       "      <th>posts</th>\n",
       "      <th>posts_tokenize</th>\n",
       "    </tr>\n",
       "  </thead>\n",
       "  <tbody>\n",
       "    <tr>\n",
       "      <th>0</th>\n",
       "      <td>INFJ</td>\n",
       "      <td>and intj moments    sportscenter not top ten ...</td>\n",
       "      <td>[and, intj, moments, sportscenter, not, top, t...</td>\n",
       "    </tr>\n",
       "    <tr>\n",
       "      <th>1</th>\n",
       "      <td>ENTP</td>\n",
       "      <td>i am finding the lack of me in these posts ver...</td>\n",
       "      <td>[i, am, finding, the, lack, of, me, in, these,...</td>\n",
       "    </tr>\n",
       "    <tr>\n",
       "      <th>2</th>\n",
       "      <td>INTP</td>\n",
       "      <td>good one      course to which i say i know tha...</td>\n",
       "      <td>[good, one, course, to, which, i, say, i, know...</td>\n",
       "    </tr>\n",
       "    <tr>\n",
       "      <th>3</th>\n",
       "      <td>INTJ</td>\n",
       "      <td>dear intp   i enjoyed our conversation the oth...</td>\n",
       "      <td>[dear, intp, i, enjoyed, our, conversation, th...</td>\n",
       "    </tr>\n",
       "    <tr>\n",
       "      <th>4</th>\n",
       "      <td>ENTJ</td>\n",
       "      <td>you are firedthat is another silly misconcepti...</td>\n",
       "      <td>[you, are, firedthat, is, another, silly, misc...</td>\n",
       "    </tr>\n",
       "  </tbody>\n",
       "</table>\n",
       "</div>"
      ],
      "text/plain": [
       "   type                                              posts  \\\n",
       "0  INFJ   and intj moments    sportscenter not top ten ...   \n",
       "1  ENTP  i am finding the lack of me in these posts ver...   \n",
       "2  INTP  good one      course to which i say i know tha...   \n",
       "3  INTJ  dear intp   i enjoyed our conversation the oth...   \n",
       "4  ENTJ  you are firedthat is another silly misconcepti...   \n",
       "\n",
       "                                      posts_tokenize  \n",
       "0  [and, intj, moments, sportscenter, not, top, t...  \n",
       "1  [i, am, finding, the, lack, of, me, in, these,...  \n",
       "2  [good, one, course, to, which, i, say, i, know...  \n",
       "3  [dear, intp, i, enjoyed, our, conversation, th...  \n",
       "4  [you, are, firedthat, is, another, silly, misc...  "
      ]
     },
     "execution_count": 132,
     "metadata": {},
     "output_type": "execute_result"
    }
   ],
   "source": [
    "#nltk tokenization\n",
    "\n",
    "df['posts_tokenize'] = df['posts'].apply(word_tokenize)\n",
    "\n",
    "df.head()"
   ]
  },
  {
   "cell_type": "markdown",
   "id": "367c4f90",
   "metadata": {},
   "source": [
    "#### Visualizations"
   ]
  },
  {
   "cell_type": "code",
   "execution_count": 133,
   "id": "b2fe7b75",
   "metadata": {},
   "outputs": [
    {
     "name": "stderr",
     "output_type": "stream",
     "text": [
      "[nltk_data] Downloading package stopwords to C:\\Users\\HP\n",
      "[nltk_data]     14S\\AppData\\Roaming\\nltk_data...\n",
      "[nltk_data]   Package stopwords is already up-to-date!\n"
     ]
    }
   ],
   "source": [
    "# initializing Stop words libraries\n",
    "\n",
    "nltk.download('stopwords')\n",
    "from nltk.corpus import stopwords\n",
    "stop_words = set(stopwords.words('english'))"
   ]
  },
  {
   "cell_type": "code",
   "execution_count": 134,
   "id": "9468d514",
   "metadata": {},
   "outputs": [],
   "source": [
    "# Before removing checking occurances of stopwords in article content\n",
    "\n",
    "%matplotlib inline\n",
    "from matplotlib import pyplot as plt\n",
    "\n",
    "def plot_top_stopwords_barchart(text):\n",
    "    stop=set(stopwords.words('english'))\n",
    "    \n",
    "    new= text.str.split()\n",
    "    new=new.values.tolist()\n",
    "    corpus=[word for i in new for word in i]\n",
    "    from collections import defaultdict\n",
    "    dic=defaultdict(int)\n",
    "    for word in corpus:\n",
    "        if word in stop:\n",
    "            dic[word]+=1\n",
    "            \n",
    "    top=sorted(dic.items(), key=lambda x:x[1],reverse=True)[:10]\n",
    "    x,y=zip(*top)\n",
    "    plt.figure(figsize=(10,10))\n",
    "    plt.bar(x,y)"
   ]
  },
  {
   "cell_type": "code",
   "execution_count": 135,
   "id": "c95af028",
   "metadata": {},
   "outputs": [
    {
     "data": {
      "image/png": "[encoded data removed]",
      "text/plain": [
       "<Figure size 720x720 with 1 Axes>"
      ]
     },
     "metadata": {
      "needs_background": "light"
     },
     "output_type": "display_data"
    }
   ],
   "source": [
    "plot_top_stopwords_barchart(df['posts'])"
   ]
  },
  {
   "cell_type": "code",
   "execution_count": 136,
   "id": "b9249dde",
   "metadata": {},
   "outputs": [],
   "source": [
    "import seaborn as sns\n",
    "from collections import  Counter\n",
    "\n",
    "def plot_top_non_stopwords_barchart(text):\n",
    "    stop=set(stopwords.words('english'))\n",
    "    \n",
    "    new= text.str.split()\n",
    "    new=new.values.tolist()\n",
    "    corpus=[word for i in new for word in i]\n",
    "\n",
    "    counter=Counter(corpus)\n",
    "    most=counter.most_common()\n",
    "    x, y=[], []\n",
    "    for word,count in most[:50]:\n",
    "        if (word not in stop):\n",
    "            x.append(word)\n",
    "            y.append(count)\n",
    "    plt.figure(figsize=(10,10))\n",
    "    sns.barplot(x=y,y=x)"
   ]
  },
  {
   "cell_type": "code",
   "execution_count": 137,
   "id": "361a0559",
   "metadata": {},
   "outputs": [
    {
     "data": {
      "image/png": "[encoded data removed]",
      "text/plain": [
       "<Figure size 720x720 with 1 Axes>"
      ]
     },
     "metadata": {
      "needs_background": "light"
     },
     "output_type": "display_data"
    }
   ],
   "source": [
    "plot_top_non_stopwords_barchart(df['posts'])"
   ]
  },
  {
   "cell_type": "markdown",
   "id": "07e09a62",
   "metadata": {},
   "source": [
    "### Remove stopwords "
   ]
  },
  {
   "cell_type": "code",
   "execution_count": 138,
   "id": "86fc0433",
   "metadata": {},
   "outputs": [
    {
     "data": {
      "text/html": [
       "<div>\n",
       "<style scoped>\n",
       "    .dataframe tbody tr th:only-of-type {\n",
       "        vertical-align: middle;\n",
       "    }\n",
       "\n",
       "    .dataframe tbody tr th {\n",
       "        vertical-align: top;\n",
       "    }\n",
       "\n",
       "    .dataframe thead th {\n",
       "        text-align: right;\n",
       "    }\n",
       "</style>\n",
       "<table border=\"1\" class=\"dataframe\">\n",
       "  <thead>\n",
       "    <tr style=\"text-align: right;\">\n",
       "      <th></th>\n",
       "      <th>type</th>\n",
       "      <th>posts</th>\n",
       "      <th>posts_tokenize</th>\n",
       "      <th>posts_tokenize_join</th>\n",
       "    </tr>\n",
       "  </thead>\n",
       "  <tbody>\n",
       "    <tr>\n",
       "      <th>0</th>\n",
       "      <td>INFJ</td>\n",
       "      <td>and intj moments    sportscenter not top ten ...</td>\n",
       "      <td>[intj, moments, sportscenter, top, ten, plays,...</td>\n",
       "      <td>intj moments sportscenter top ten plays pranks...</td>\n",
       "    </tr>\n",
       "    <tr>\n",
       "      <th>1</th>\n",
       "      <td>ENTP</td>\n",
       "      <td>i am finding the lack of me in these posts ver...</td>\n",
       "      <td>[finding, lack, posts, alarmingsex, boring, po...</td>\n",
       "      <td>finding lack posts alarmingsex boring position...</td>\n",
       "    </tr>\n",
       "    <tr>\n",
       "      <th>2</th>\n",
       "      <td>INTP</td>\n",
       "      <td>good one      course to which i say i know tha...</td>\n",
       "      <td>[good, one, course, say, know, blessing, curse...</td>\n",
       "      <td>good one course say know blessing cursedoes ab...</td>\n",
       "    </tr>\n",
       "    <tr>\n",
       "      <th>3</th>\n",
       "      <td>INTJ</td>\n",
       "      <td>dear intp   i enjoyed our conversation the oth...</td>\n",
       "      <td>[dear, intp, enjoyed, conversation, day, esote...</td>\n",
       "      <td>dear intp enjoyed conversation day esoteric ga...</td>\n",
       "    </tr>\n",
       "    <tr>\n",
       "      <th>4</th>\n",
       "      <td>ENTJ</td>\n",
       "      <td>you are firedthat is another silly misconcepti...</td>\n",
       "      <td>[firedthat, another, silly, misconception, app...</td>\n",
       "      <td>firedthat another silly misconception approach...</td>\n",
       "    </tr>\n",
       "  </tbody>\n",
       "</table>\n",
       "</div>"
      ],
      "text/plain": [
       "   type                                              posts  \\\n",
       "0  INFJ   and intj moments    sportscenter not top ten ...   \n",
       "1  ENTP  i am finding the lack of me in these posts ver...   \n",
       "2  INTP  good one      course to which i say i know tha...   \n",
       "3  INTJ  dear intp   i enjoyed our conversation the oth...   \n",
       "4  ENTJ  you are firedthat is another silly misconcepti...   \n",
       "\n",
       "                                      posts_tokenize  \\\n",
       "0  [intj, moments, sportscenter, top, ten, plays,...   \n",
       "1  [finding, lack, posts, alarmingsex, boring, po...   \n",
       "2  [good, one, course, say, know, blessing, curse...   \n",
       "3  [dear, intp, enjoyed, conversation, day, esote...   \n",
       "4  [firedthat, another, silly, misconception, app...   \n",
       "\n",
       "                                 posts_tokenize_join  \n",
       "0  intj moments sportscenter top ten plays pranks...  \n",
       "1  finding lack posts alarmingsex boring position...  \n",
       "2  good one course say know blessing cursedoes ab...  \n",
       "3  dear intp enjoyed conversation day esoteric ga...  \n",
       "4  firedthat another silly misconception approach...  "
      ]
     },
     "execution_count": 138,
     "metadata": {},
     "output_type": "execute_result"
    }
   ],
   "source": [
    "# Now we remove stopwords \n",
    "\n",
    "df['posts_tokenize'] = df['posts_tokenize'].apply(lambda x: [word for word in x if word not in stop_words])\n",
    "df['posts_tokenize_join'] = [' '.join(map(str, l)) for l in df['posts_tokenize']]\n",
    "\n",
    "df.head()"
   ]
  },
  {
   "cell_type": "code",
   "execution_count": 139,
   "id": "5f8974ee",
   "metadata": {},
   "outputs": [],
   "source": [
    "# Let's evaluate the POS tags for our train set data\n",
    "tagged_stanzas_df = []\n",
    "tagged_df = []\n",
    "\n",
    "for word in df['posts_tokenize']:\n",
    "  tagged_word = nltk.pos_tag(word)\n",
    "  tagged_stanzas_df.append(tagged_word)\n",
    "\n",
    "# This format is needed for below visualizer as in takes only two values. If you skip this format, it might give you - \"too many values to unpack error\" \n",
    "tagged_df.append(tagged_stanzas_df)"
   ]
  },
  {
   "cell_type": "markdown",
   "id": "8575fe23",
   "metadata": {},
   "source": [
    "### Yellow Brick: POS Visualizer "
   ]
  },
  {
   "cell_type": "code",
   "execution_count": 140,
   "id": "afbab7f4",
   "metadata": {},
   "outputs": [
    {
     "data": {
      "image/png": "[encoded data removed]",
      "text/plain": [
       "<Figure size 1080x1080 with 1 Axes>"
      ]
     },
     "metadata": {
      "needs_background": "light"
     },
     "output_type": "display_data"
    },
    {
     "data": {
      "text/plain": [
       "<AxesSubplot:title={'center':'PosTag plot for 5239611-token corpus'}, xlabel='Penn Treebank part-of-speech tags', ylabel='Count'>"
      ]
     },
     "execution_count": 140,
     "metadata": {},
     "output_type": "execute_result"
    }
   ],
   "source": [
    "# Create the visualizer for train test\n",
    "\n",
    "from yellowbrick.text import PosTagVisualizer\n",
    "\n",
    "plt.figure(figsize=(15,15))\n",
    "viz = PosTagVisualizer()\n",
    "viz.fit(tagged_df)\n",
    "viz.show()"
   ]
  },
  {
   "cell_type": "markdown",
   "id": "def6e037",
   "metadata": {},
   "source": [
    "## Text Classification Methodology "
   ]
  },
  {
   "cell_type": "code",
   "execution_count": 141,
   "id": "7c315819",
   "metadata": {},
   "outputs": [
    {
     "data": {
      "text/plain": [
       "INFP    1832\n",
       "INFJ    1470\n",
       "INTP    1304\n",
       "INTJ    1091\n",
       "ENTP     685\n",
       "ENFP     675\n",
       "ISTP     337\n",
       "ISFP     271\n",
       "ENTJ     231\n",
       "ISTJ     205\n",
       "ENFJ     190\n",
       "ISFJ     166\n",
       "ESTP      89\n",
       "ESFP      48\n",
       "ESFJ      42\n",
       "ESTJ      39\n",
       "Name: type, dtype: int64"
      ]
     },
     "execution_count": 141,
     "metadata": {},
     "output_type": "execute_result"
    }
   ],
   "source": [
    "# now, let's check data distribution on the target label\n",
    "\n",
    "df[\"type\"].value_counts()"
   ]
  },
  {
   "cell_type": "code",
   "execution_count": 142,
   "id": "fb44d862",
   "metadata": {},
   "outputs": [
    {
     "data": {
      "text/plain": [
       "<AxesSubplot:xlabel='type', ylabel='count'>"
      ]
     },
     "execution_count": 142,
     "metadata": {},
     "output_type": "execute_result"
    },
    {
     "data": {
      "image/png": "[encoded data removed]",
      "text/plain": [
       "<Figure size 720x576 with 1 Axes>"
      ]
     },
     "metadata": {
      "needs_background": "light"
     },
     "output_type": "display_data"
    }
   ],
   "source": [
    "# we see there is skewness distribution of target features\n",
    "from matplotlib import rcParams\n",
    "\n",
    "rcParams[\"figure.figsize\"] = 10,8\n",
    "sns.countplot(x = df[\"type\"])"
   ]
  },
  {
   "cell_type": "markdown",
   "id": "d979c618",
   "metadata": {},
   "source": [
    "### Fix Skewness Distribution of Target Label: Type"
   ]
  },
  {
   "cell_type": "markdown",
   "id": "be4a7976",
   "metadata": {},
   "source": [
    "#### Oversampling "
   ]
  },
  {
   "cell_type": "code",
   "execution_count": 143,
   "id": "5a3a6764",
   "metadata": {},
   "outputs": [
    {
     "data": {
      "text/plain": [
       "1832"
      ]
     },
     "execution_count": 143,
     "metadata": {},
     "output_type": "execute_result"
    }
   ],
   "source": [
    "count_class_0 = len(df[df['type'] == 'INFP'])\n",
    "count_class_0"
   ]
  },
  {
   "cell_type": "code",
   "execution_count": 144,
   "id": "4be29710",
   "metadata": {},
   "outputs": [],
   "source": [
    "# Divide by class\n",
    "df_class_0 = df[df['type'] == 'INFP']\n",
    "df_class_1 = df[df['type'] == 'INFJ']\n",
    "df_class_2 = df[df['type'] == 'INTP']\n",
    "df_class_3 = df[df['type'] == 'INTJ']\n",
    "df_class_4 = df[df['type'] == 'ENTP']\n",
    "df_class_5 = df[df['type'] == 'ENFP']\n",
    "df_class_6 = df[df['type'] == 'ISTP']\n",
    "df_class_7 = df[df['type'] == 'ISFP']\n",
    "df_class_8 = df[df['type'] == 'ENTJ']\n",
    "df_class_9 = df[df['type'] == 'ISTJ']\n",
    "df_class_10 = df[df['type'] == 'ENFJ']\n",
    "df_class_11 = df[df['type'] == 'ISFJ']\n",
    "df_class_12 = df[df['type'] == 'ESTP']\n",
    "df_class_13 = df[df['type'] == 'ESFP']\n",
    "df_class_14 = df[df['type'] == 'ESFJ']\n",
    "df_class_15 = df[df['type'] == 'ESTJ']"
   ]
  },
  {
   "cell_type": "code",
   "execution_count": 145,
   "id": "811396ed",
   "metadata": {},
   "outputs": [],
   "source": [
    "df_class_0_sam = df_class_1.sample(600, replace=True)\n",
    "df_class_1_sam = df_class_1.sample(600, replace=True)\n",
    "df_class_2_sam = df_class_2.sample(600, replace=True)\n",
    "df_class_3_sam = df_class_3.sample(600, replace=True)\n",
    "df_class_4_sam = df_class_4.sample(600, replace=True)\n",
    "df_class_5_sam = df_class_5.sample(600, replace=True)\n",
    "df_class_6_sam = df_class_6.sample(600, replace=True)\n",
    "df_class_7_sam = df_class_7.sample(600, replace=True)\n",
    "df_class_8_sam = df_class_8.sample(600, replace=True)\n",
    "df_class_9_sam = df_class_9.sample(600, replace=True)\n",
    "df_class_10_sam = df_class_10.sample(600, replace=True)\n",
    "df_class_11_sam = df_class_11.sample(600, replace=True)\n",
    "df_class_12_sam = df_class_12.sample(600, replace=True)\n",
    "df_class_13_sam = df_class_13.sample(600, replace=True)\n",
    "df_class_14_sam = df_class_14.sample(600, replace=True)\n",
    "df_class_15_sam = df_class_15.sample(600, replace=True)"
   ]
  },
  {
   "cell_type": "code",
   "execution_count": 146,
   "id": "db09eb17",
   "metadata": {},
   "outputs": [
    {
     "data": {
      "text/html": [
       "<div>\n",
       "<style scoped>\n",
       "    .dataframe tbody tr th:only-of-type {\n",
       "        vertical-align: middle;\n",
       "    }\n",
       "\n",
       "    .dataframe tbody tr th {\n",
       "        vertical-align: top;\n",
       "    }\n",
       "\n",
       "    .dataframe thead th {\n",
       "        text-align: right;\n",
       "    }\n",
       "</style>\n",
       "<table border=\"1\" class=\"dataframe\">\n",
       "  <thead>\n",
       "    <tr style=\"text-align: right;\">\n",
       "      <th></th>\n",
       "      <th>type</th>\n",
       "      <th>posts</th>\n",
       "      <th>posts_tokenize</th>\n",
       "      <th>posts_tokenize_join</th>\n",
       "    </tr>\n",
       "  </thead>\n",
       "  <tbody>\n",
       "    <tr>\n",
       "      <th>17</th>\n",
       "      <td>INFP</td>\n",
       "      <td>i think we do agree i personally do not consid...</td>\n",
       "      <td>[think, agree, personally, consider, alpha, be...</td>\n",
       "      <td>think agree personally consider alpha beta fox...</td>\n",
       "    </tr>\n",
       "    <tr>\n",
       "      <th>19</th>\n",
       "      <td>INFP</td>\n",
       "      <td>that is normal it happens also to me if i am i...</td>\n",
       "      <td>[normal, happens, also, high, mood, act, like,...</td>\n",
       "      <td>normal happens also high mood act like 478 dep...</td>\n",
       "    </tr>\n",
       "    <tr>\n",
       "      <th>23</th>\n",
       "      <td>INFP</td>\n",
       "      <td>45016 urh sorry uh could not resistall of you ...</td>\n",
       "      <td>[45016, urh, sorry, uh, could, resistall, enfj...</td>\n",
       "      <td>45016 urh sorry uh could resistall enfjs pleas...</td>\n",
       "    </tr>\n",
       "    <tr>\n",
       "      <th>25</th>\n",
       "      <td>INFP</td>\n",
       "      <td>personally i was thinking this would be more o...</td>\n",
       "      <td>[personally, thinking, would, sj, type, job, w...</td>\n",
       "      <td>personally thinking would sj type job waysi is...</td>\n",
       "    </tr>\n",
       "    <tr>\n",
       "      <th>28</th>\n",
       "      <td>INFP</td>\n",
       "      <td>basically my main questions are  what do you b...</td>\n",
       "      <td>[basically, main, questions, believe, values, ...</td>\n",
       "      <td>basically main questions believe values matter...</td>\n",
       "    </tr>\n",
       "  </tbody>\n",
       "</table>\n",
       "</div>"
      ],
      "text/plain": [
       "    type                                              posts  \\\n",
       "17  INFP  i think we do agree i personally do not consid...   \n",
       "19  INFP  that is normal it happens also to me if i am i...   \n",
       "23  INFP  45016 urh sorry uh could not resistall of you ...   \n",
       "25  INFP  personally i was thinking this would be more o...   \n",
       "28  INFP  basically my main questions are  what do you b...   \n",
       "\n",
       "                                       posts_tokenize  \\\n",
       "17  [think, agree, personally, consider, alpha, be...   \n",
       "19  [normal, happens, also, high, mood, act, like,...   \n",
       "23  [45016, urh, sorry, uh, could, resistall, enfj...   \n",
       "25  [personally, thinking, would, sj, type, job, w...   \n",
       "28  [basically, main, questions, believe, values, ...   \n",
       "\n",
       "                                  posts_tokenize_join  \n",
       "17  think agree personally consider alpha beta fox...  \n",
       "19  normal happens also high mood act like 478 dep...  \n",
       "23  45016 urh sorry uh could resistall enfjs pleas...  \n",
       "25  personally thinking would sj type job waysi is...  \n",
       "28  basically main questions believe values matter...  "
      ]
     },
     "execution_count": 146,
     "metadata": {},
     "output_type": "execute_result"
    }
   ],
   "source": [
    "df_resampled = pd.concat([df_class_0, df_class_1_over, df_class_2_over, df_class_3_over, df_class_4_over, df_class_5_over, \n",
    "           df_class_6_over, df_class_7_over, df_class_8_over, df_class_9_over, df_class_10_over, df_class_11_over,\n",
    "            df_class_12_over, df_class_13_over, df_class_14_over, df_class_15_over])\n",
    "df_resampled.head()"
   ]
  },
  {
   "cell_type": "code",
   "execution_count": 147,
   "id": "41274e9b",
   "metadata": {},
   "outputs": [
    {
     "data": {
      "text/html": [
       "<div>\n",
       "<style scoped>\n",
       "    .dataframe tbody tr th:only-of-type {\n",
       "        vertical-align: middle;\n",
       "    }\n",
       "\n",
       "    .dataframe tbody tr th {\n",
       "        vertical-align: top;\n",
       "    }\n",
       "\n",
       "    .dataframe thead th {\n",
       "        text-align: right;\n",
       "    }\n",
       "</style>\n",
       "<table border=\"1\" class=\"dataframe\">\n",
       "  <thead>\n",
       "    <tr style=\"text-align: right;\">\n",
       "      <th></th>\n",
       "      <th>posts</th>\n",
       "      <th>posts_tokenize</th>\n",
       "      <th>posts_tokenize_join</th>\n",
       "    </tr>\n",
       "  </thead>\n",
       "  <tbody>\n",
       "    <tr>\n",
       "      <th>17</th>\n",
       "      <td>i think we do agree i personally do not consid...</td>\n",
       "      <td>[think, agree, personally, consider, alpha, be...</td>\n",
       "      <td>think agree personally consider alpha beta fox...</td>\n",
       "    </tr>\n",
       "    <tr>\n",
       "      <th>19</th>\n",
       "      <td>that is normal it happens also to me if i am i...</td>\n",
       "      <td>[normal, happens, also, high, mood, act, like,...</td>\n",
       "      <td>normal happens also high mood act like 478 dep...</td>\n",
       "    </tr>\n",
       "    <tr>\n",
       "      <th>23</th>\n",
       "      <td>45016 urh sorry uh could not resistall of you ...</td>\n",
       "      <td>[45016, urh, sorry, uh, could, resistall, enfj...</td>\n",
       "      <td>45016 urh sorry uh could resistall enfjs pleas...</td>\n",
       "    </tr>\n",
       "    <tr>\n",
       "      <th>25</th>\n",
       "      <td>personally i was thinking this would be more o...</td>\n",
       "      <td>[personally, thinking, would, sj, type, job, w...</td>\n",
       "      <td>personally thinking would sj type job waysi is...</td>\n",
       "    </tr>\n",
       "    <tr>\n",
       "      <th>28</th>\n",
       "      <td>basically my main questions are  what do you b...</td>\n",
       "      <td>[basically, main, questions, believe, values, ...</td>\n",
       "      <td>basically main questions believe values matter...</td>\n",
       "    </tr>\n",
       "  </tbody>\n",
       "</table>\n",
       "</div>"
      ],
      "text/plain": [
       "                                                posts  \\\n",
       "17  i think we do agree i personally do not consid...   \n",
       "19  that is normal it happens also to me if i am i...   \n",
       "23  45016 urh sorry uh could not resistall of you ...   \n",
       "25  personally i was thinking this would be more o...   \n",
       "28  basically my main questions are  what do you b...   \n",
       "\n",
       "                                       posts_tokenize  \\\n",
       "17  [think, agree, personally, consider, alpha, be...   \n",
       "19  [normal, happens, also, high, mood, act, like,...   \n",
       "23  [45016, urh, sorry, uh, could, resistall, enfj...   \n",
       "25  [personally, thinking, would, sj, type, job, w...   \n",
       "28  [basically, main, questions, believe, values, ...   \n",
       "\n",
       "                                  posts_tokenize_join  \n",
       "17  think agree personally consider alpha beta fox...  \n",
       "19  normal happens also high mood act like 478 dep...  \n",
       "23  45016 urh sorry uh could resistall enfjs pleas...  \n",
       "25  personally thinking would sj type job waysi is...  \n",
       "28  basically main questions believe values matter...  "
      ]
     },
     "execution_count": 147,
     "metadata": {},
     "output_type": "execute_result"
    }
   ],
   "source": [
    "target = df_resampled['type'].values\n",
    "\n",
    "# Drop the 'type' column from df_resampled\n",
    "df_resampled.drop(\"type\", axis=1, inplace = True)\n",
    "df_resampled.head()"
   ]
  },
  {
   "cell_type": "markdown",
   "id": "00efded0",
   "metadata": {},
   "source": [
    "### Create Model "
   ]
  },
  {
   "cell_type": "code",
   "execution_count": 148,
   "id": "4094f971",
   "metadata": {},
   "outputs": [],
   "source": [
    "from sklearn.model_selection import train_test_split\n",
    "\n",
    "X_train, X_test, y_train, y_test = train_test_split(df_resampled['posts'], target, test_size=0.2, random_state=15, stratify=target)\n"
   ]
  },
  {
   "cell_type": "code",
   "execution_count": 149,
   "id": "484cc2d0",
   "metadata": {},
   "outputs": [
    {
     "data": {
      "text/html": [
       "<style>#sk-container-id-9 {color: black;background-color: white;}#sk-container-id-9 pre{padding: 0;}#sk-container-id-9 div.sk-toggleable {background-color: white;}#sk-container-id-9 label.sk-toggleable__label {cursor: pointer;display: block;width: 100%;margin-bottom: 0;padding: 0.3em;box-sizing: border-box;text-align: center;}#sk-container-id-9 label.sk-toggleable__label-arrow:before {content: \"▸\";float: left;margin-right: 0.25em;color: #696969;}#sk-container-id-9 label.sk-toggleable__label-arrow:hover:before {color: black;}#sk-container-id-9 div.sk-estimator:hover label.sk-toggleable__label-arrow:before {color: black;}#sk-container-id-9 div.sk-toggleable__content {max-height: 0;max-width: 0;overflow: hidden;text-align: left;background-color: #f0f8ff;}#sk-container-id-9 div.sk-toggleable__content pre {margin: 0.2em;color: black;border-radius: 0.25em;background-color: #f0f8ff;}#sk-container-id-9 input.sk-toggleable__control:checked~div.sk-toggleable__content {max-height: 200px;max-width: 100%;overflow: auto;}#sk-container-id-9 input.sk-toggleable__control:checked~label.sk-toggleable__label-arrow:before {content: \"▾\";}#sk-container-id-9 div.sk-estimator input.sk-toggleable__control:checked~label.sk-toggleable__label {background-color: #d4ebff;}#sk-container-id-9 div.sk-label input.sk-toggleable__control:checked~label.sk-toggleable__label {background-color: #d4ebff;}#sk-container-id-9 input.sk-hidden--visually {border: 0;clip: rect(1px 1px 1px 1px);clip: rect(1px, 1px, 1px, 1px);height: 1px;margin: -1px;overflow: hidden;padding: 0;position: absolute;width: 1px;}#sk-container-id-9 div.sk-estimator {font-family: monospace;background-color: #f0f8ff;border: 1px dotted black;border-radius: 0.25em;box-sizing: border-box;margin-bottom: 0.5em;}#sk-container-id-9 div.sk-estimator:hover {background-color: #d4ebff;}#sk-container-id-9 div.sk-parallel-item::after {content: \"\";width: 100%;border-bottom: 1px solid gray;flex-grow: 1;}#sk-container-id-9 div.sk-label:hover label.sk-toggleable__label {background-color: #d4ebff;}#sk-container-id-9 div.sk-serial::before {content: \"\";position: absolute;border-left: 1px solid gray;box-sizing: border-box;top: 0;bottom: 0;left: 50%;z-index: 0;}#sk-container-id-9 div.sk-serial {display: flex;flex-direction: column;align-items: center;background-color: white;padding-right: 0.2em;padding-left: 0.2em;position: relative;}#sk-container-id-9 div.sk-item {position: relative;z-index: 1;}#sk-container-id-9 div.sk-parallel {display: flex;align-items: stretch;justify-content: center;background-color: white;position: relative;}#sk-container-id-9 div.sk-item::before, #sk-container-id-9 div.sk-parallel-item::before {content: \"\";position: absolute;border-left: 1px solid gray;box-sizing: border-box;top: 0;bottom: 0;left: 50%;z-index: -1;}#sk-container-id-9 div.sk-parallel-item {display: flex;flex-direction: column;z-index: 1;position: relative;background-color: white;}#sk-container-id-9 div.sk-parallel-item:first-child::after {align-self: flex-end;width: 50%;}#sk-container-id-9 div.sk-parallel-item:last-child::after {align-self: flex-start;width: 50%;}#sk-container-id-9 div.sk-parallel-item:only-child::after {width: 0;}#sk-container-id-9 div.sk-dashed-wrapped {border: 1px dashed gray;margin: 0 0.4em 0.5em 0.4em;box-sizing: border-box;padding-bottom: 0.4em;background-color: white;}#sk-container-id-9 div.sk-label label {font-family: monospace;font-weight: bold;display: inline-block;line-height: 1.2em;}#sk-container-id-9 div.sk-label-container {text-align: center;}#sk-container-id-9 div.sk-container {/* jupyter's `normalize.less` sets `[hidden] { display: none; }` but bootstrap.min.css set `[hidden] { display: none !important; }` so we also need the `!important` here to be able to override the default hidden behavior on the sphinx rendered scikit-learn.org. See: https://github.com/scikit-learn/scikit-learn/issues/21755 */display: inline-block !important;position: relative;}#sk-container-id-9 div.sk-text-repr-fallback {display: none;}</style><div id=\"sk-container-id-9\" class=\"sk-top-container\"><div class=\"sk-text-repr-fallback\"><pre>Pipeline(steps=[(&#x27;tfidfvectorizer&#x27;, TfidfVectorizer()),\n",
       "                (&#x27;decisiontreeclassifier&#x27;, DecisionTreeClassifier())])</pre><b>In a Jupyter environment, please rerun this cell to show the HTML representation or trust the notebook. <br />On GitHub, the HTML representation is unable to render, please try loading this page with nbviewer.org.</b></div><div class=\"sk-container\" hidden><div class=\"sk-item sk-dashed-wrapped\"><div class=\"sk-label-container\"><div class=\"sk-label sk-toggleable\"><input class=\"sk-toggleable__control sk-hidden--visually\" id=\"sk-estimator-id-25\" type=\"checkbox\" ><label for=\"sk-estimator-id-25\" class=\"sk-toggleable__label sk-toggleable__label-arrow\">Pipeline</label><div class=\"sk-toggleable__content\"><pre>Pipeline(steps=[(&#x27;tfidfvectorizer&#x27;, TfidfVectorizer()),\n",
       "                (&#x27;decisiontreeclassifier&#x27;, DecisionTreeClassifier())])</pre></div></div></div><div class=\"sk-serial\"><div class=\"sk-item\"><div class=\"sk-estimator sk-toggleable\"><input class=\"sk-toggleable__control sk-hidden--visually\" id=\"sk-estimator-id-26\" type=\"checkbox\" ><label for=\"sk-estimator-id-26\" class=\"sk-toggleable__label sk-toggleable__label-arrow\">TfidfVectorizer</label><div class=\"sk-toggleable__content\"><pre>TfidfVectorizer()</pre></div></div></div><div class=\"sk-item\"><div class=\"sk-estimator sk-toggleable\"><input class=\"sk-toggleable__control sk-hidden--visually\" id=\"sk-estimator-id-27\" type=\"checkbox\" ><label for=\"sk-estimator-id-27\" class=\"sk-toggleable__label sk-toggleable__label-arrow\">DecisionTreeClassifier</label><div class=\"sk-toggleable__content\"><pre>DecisionTreeClassifier()</pre></div></div></div></div></div></div></div>"
      ],
      "text/plain": [
       "Pipeline(steps=[('tfidfvectorizer', TfidfVectorizer()),\n",
       "                ('decisiontreeclassifier', DecisionTreeClassifier())])"
      ]
     },
     "execution_count": 149,
     "metadata": {},
     "output_type": "execute_result"
    }
   ],
   "source": [
    "from sklearn.tree import DecisionTreeClassifier\n",
    "from sklearn.feature_extraction.text import TfidfVectorizer\n",
    "from sklearn.pipeline import make_pipeline\n",
    "\n",
    "model = make_pipeline(TfidfVectorizer(), DecisionTreeClassifier())\n",
    "\n",
    "model.fit(X_train, y_train)"
   ]
  },
  {
   "cell_type": "code",
   "execution_count": 150,
   "id": "bbf2a3c3",
   "metadata": {},
   "outputs": [
    {
     "name": "stdout",
     "output_type": "stream",
     "text": [
      "Accuracy: 92.21%\n"
     ]
    }
   ],
   "source": [
    "# Predict and calculate accuracy\n",
    "from sklearn.metrics import accuracy_score\n",
    "\n",
    "predictions = model.predict(X_test)\n",
    "score=accuracy_score(y_test,predictions)\n",
    "print(f'Accuracy: {round(score*100,2)}%')"
   ]
  },
  {
   "cell_type": "markdown",
   "id": "c1d92b54",
   "metadata": {},
   "source": [
    "### Confusion Matrix "
   ]
  },
  {
   "cell_type": "code",
   "execution_count": 151,
   "id": "1ba6a245",
   "metadata": {},
   "outputs": [
    {
     "name": "stdout",
     "output_type": "stream",
     "text": [
      "[[367   0   0   0   0   0   0   0   0   0   0   0   0   0   0   0]\n",
      " [  1 338   0   4   0   1   3   0   3   4   3   5   1   2   0   1]\n",
      " [  0   0 366   0   0   0   0   0   0   0   0   0   0   0   0   0]\n",
      " [  2   0   1 342   0   0   0   3   3   5   6   2   0   1   1   0]\n",
      " [  0   0   0   0 366   0   0   0   0   0   0   0   0   0   0   0]\n",
      " [  0   0   0   0   0 367   0   0   0   0   0   0   0   0   0   0]\n",
      " [  0   0   0   0   0   0 366   0   0   0   0   0   0   0   0   0]\n",
      " [  0   0   0   0   0   0   0 367   0   0   0   0   0   0   0   0]\n",
      " [  6   5   6   7   0   0   2   0 297  18   8   8   3   3   3   1]\n",
      " [ 12  26   5  10   2   1   2   3  51 177  19  27   6   9   3  13]\n",
      " [  5   4   3   6   1   1   1   0   8  16 296  15   2   2   4   2]\n",
      " [  0   3   1  11   3   0   0   3  16  13  12 295   0   0   5   5]\n",
      " [  0   0   0   0   0   0   0   0   0   0   0   0 367   0   0   0]\n",
      " [  0   0   0   0   0   0   0   0   0   0   0   0   0 366   0   0]\n",
      " [  0   0   0   0   0   0   0   0   0   0   0   0   0   0 367   0]\n",
      " [  0   0   2   0   0   0   0   0   0   0   1   0   0   1   0 362]]\n"
     ]
    }
   ],
   "source": [
    "from sklearn import metrics\n",
    "\n",
    "CM = metrics.confusion_matrix(y_test, predictions)\n",
    "print(CM)"
   ]
  },
  {
   "cell_type": "code",
   "execution_count": 152,
   "id": "081eb990",
   "metadata": {},
   "outputs": [
    {
     "data": {
      "image/png": "[encoded data removed]",
      "text/plain": [
       "<Figure size 648x648 with 2 Axes>"
      ]
     },
     "metadata": {
      "needs_background": "light"
     },
     "output_type": "display_data"
    }
   ],
   "source": [
    "plt.figure(figsize=(9,9))\n",
    "sns.heatmap(CM, annot=True, fmt=\".3f\", linewidths=.5, square = True, cmap = 'Blues_r');\n",
    "plt.ylabel('Actual label');\n",
    "plt.xlabel('Predicted label');\n",
    "all_sample_title = 'Accuracy Score: {0}'.format(score)\n",
    "plt.title(all_sample_title, size = 15);"
   ]
  },
  {
   "cell_type": "markdown",
   "id": "9f2edd94",
   "metadata": {},
   "source": [
    "Our model looks good. it can be seen that most of the data have been predicted successfully"
   ]
  },
  {
   "cell_type": "code",
   "execution_count": 153,
   "id": "3ad6c752",
   "metadata": {},
   "outputs": [],
   "source": [
    "def clean(text):\n",
    "\n",
    "    expanded_words = []\n",
    "    for word in text.split():\n",
    "        # using contractions.fix to expand the shortened words\n",
    "        expanded_words.append(contractions.fix(word))\n",
    "\n",
    "    expanded_text = ' '.join(expanded_words)\n",
    "\n",
    "    text = expanded_text.lower()\n",
    "    text = re.sub(r'[^\\w\\d\\s]+', '', text)\n",
    "    text = re.sub(\"[\\_]+\", '', text)\n",
    "\n",
    "    return text"
   ]
  },
  {
   "cell_type": "code",
   "execution_count": 154,
   "id": "66c8bbf6",
   "metadata": {},
   "outputs": [],
   "source": [
    "#text = \"Oh ! I just remembered I read something really cool about *five hours monologue*. It’s really not that complicated. Did you know that *random fact*. Uh, interesting. Sorry, I lost track of time. Actually, I have some ideas about that. I read this really cool article recently—about how. Load faster, dammit! [directed at the Internet]. Where did I learn that? Internet. Why can’t I open a new browser tab? Oh, I’m maxed out. Which one to close…\""
   ]
  },
  {
   "cell_type": "code",
   "execution_count": 158,
   "id": "358209e6",
   "metadata": {},
   "outputs": [],
   "source": [
    "text = \"Well, in order to answer your question I would have to—— Wait. Wait a second. Is that… A BUTTERFLY over there?! Holy crap! That is so pretty! I’m curious about butterflies now. I am going to spend the next 4 hours researching all about the anatomy, mating habits, and migration patterns of the butterfly. Wow, I’m halfway done with this article about their wing patterns. So cool! And it says here that—— Wait. Wait a SECOND. Is that a rabbit over there? Did I just see a rabbit?! I LOVE rabbits. I’m gonna close this tab about butterflies and now open 5 tabs about the taxonomy of rabbits in the Americas. Frick yea.\""
   ]
  },
  {
   "cell_type": "code",
   "execution_count": 159,
   "id": "56e59654",
   "metadata": {},
   "outputs": [
    {
     "data": {
      "text/plain": [
       "'well in order to answer your question i would have to wait wait a second is that a butterfly over there holy crap that is so pretty i am curious about butterflies now i am going to spend the next 4 hours researching all about the anatomy mating habits and migration patterns of the butterfly wow i am halfway done with this article about their wing patterns so cool and it says here that wait wait a second is that a rabbit over there did i just see a rabbit i love rabbits i am going to close this tab about butterflies and now open 5 tabs about the taxonomy of rabbits in the americas frick yea'"
      ]
     },
     "execution_count": 159,
     "metadata": {},
     "output_type": "execute_result"
    }
   ],
   "source": [
    "text_cleaned = clean(text)\n",
    "text_cleaned"
   ]
  },
  {
   "cell_type": "code",
   "execution_count": 160,
   "id": "fbaf43d0",
   "metadata": {},
   "outputs": [
    {
     "data": {
      "text/plain": [
       "array(['INTP'], dtype=object)"
      ]
     },
     "execution_count": 160,
     "metadata": {},
     "output_type": "execute_result"
    }
   ],
   "source": [
    "pred = model.predict([text_cleaned])\n",
    "pred"
   ]
  },
  {
   "cell_type": "code",
   "execution_count": 161,
   "id": "04c9b56a",
   "metadata": {},
   "outputs": [],
   "source": [
    "# save the model to disk\n",
    "import pickle\n",
    "\n",
    "filename = 'mbti_model.pkl'\n",
    "pickle.dump(model, open(filename, 'wb'))"
   ]
  },
  {
   "cell_type": "markdown",
   "id": "164787be",
   "metadata": {},
   "source": [
    "#### Later, we will use the model to create a web used to predict MBTI type of someone's typing"
   ]
  },
  {
   "cell_type": "code",
   "execution_count": null,
   "id": "a6f6c70e",
   "metadata": {},
   "outputs": [],
   "source": []
  }
 ],
 "metadata": {
  "kernelspec": {
   "display_name": "Python 3 (ipykernel)",
   "language": "python",
   "name": "python3"
  },
  "language_info": {
   "codemirror_mode": {
    "name": "ipython",
    "version": 3
   },
   "file_extension": ".py",
   "mimetype": "text/x-python",
   "name": "python",
   "nbconvert_exporter": "python",
   "pygments_lexer": "ipython3",
   "version": "3.9.4"
  }
 },
 "nbformat": 4,
 "nbformat_minor": 5
}
